{
 "cells": [
  {
   "cell_type": "markdown",
   "metadata": {},
   "source": [
    "# Developing an AI application\n",
    "\n",
    "Going forward, AI algorithms will be incorporated into more and more everyday applications. For example, you might want to include an image classifier in a smart phone app. To do this, you'd use a deep learning model trained on hundreds of thousands of images as part of the overall application architecture. A large part of software development in the future will be using these types of models as common parts of applications. \n",
    "\n",
    "In this project, you'll train an image classifier to recognize different species of flowers. You can imagine using something like this in a phone app that tells you the name of the flower your camera is looking at. In practice you'd train this classifier, then export it for use in your application. We'll be using [this dataset](http://www.robots.ox.ac.uk/~vgg/data/flowers/102/index.html) of 102 flower categories, you can see a few examples below. \n",
    "\n",
    "<img src='assets/Flowers.png' width=500px>\n",
    "\n",
    "The project is broken down into multiple steps:\n",
    "\n",
    "* Load and preprocess the image dataset\n",
    "* Train the image classifier on your dataset\n",
    "* Use the trained classifier to predict image content\n",
    "\n",
    "We'll lead you through each part which you'll implement in Python.\n",
    "\n",
    "When you've completed this project, you'll have an application that can be trained on any set of labeled images. Here your network will be learning about flowers and end up as a command line application. But, what you do with your new skills depends on your imagination and effort in building a dataset. For example, imagine an app where you take a picture of a car, it tells you what the make and model is, then looks up information about it. Go build your own dataset and make something new.\n",
    "\n",
    "First up is importing the packages you'll need. It's good practice to keep all the imports at the beginning of your code. As you work through this notebook and find you need to import a package, make sure to add the import up here."
   ]
  },
  {
   "cell_type": "code",
   "execution_count": 1,
   "metadata": {},
   "outputs": [],
   "source": [
    "# Imports here\n",
    "import torch\n",
    "from torch import nn, optim\n",
    "from torchvision import datasets, transforms\n",
    "import torchvision.models as models\n",
    "from collections import OrderedDict\n",
    "import numpy as np\n",
    "import pickle\n",
    "import os\n",
    "import pandas as pd\n",
    "from IPython.display import HTML\n",
    "\n",
    "import matplotlib.pyplot as plt"
   ]
  },
  {
   "cell_type": "markdown",
   "metadata": {},
   "source": [
    "## Load the data\n",
    "\n",
    "Here you'll use `torchvision` to load the data ([documentation](http://pytorch.org/docs/0.3.0/torchvision/index.html)). The data should be included alongside this notebook, otherwise you can [download it here](https://s3.amazonaws.com/content.udacity-data.com/nd089/flower_data.tar.gz). The dataset is split into three parts, training, validation, and testing. For the training, you'll want to apply transformations such as random scaling, cropping, and flipping. This will help the network generalize leading to better performance. You'll also need to make sure the input data is resized to 224x224 pixels as required by the pre-trained networks.\n",
    "\n",
    "The validation and testing sets are used to measure the model's performance on data it hasn't seen yet. For this you don't want any scaling or rotation transformations, but you'll need to resize then crop the images to the appropriate size.\n",
    "\n",
    "The pre-trained networks you'll use were trained on the ImageNet dataset where each color channel was normalized separately. For all three sets you'll need to normalize the means and standard deviations of the images to what the network expects. For the means, it's `[0.485, 0.456, 0.406]` and for the standard deviations `[0.229, 0.224, 0.225]`, calculated from the ImageNet images.  These values will shift each color channel to be centered at 0 and range from -1 to 1.\n",
    " "
   ]
  },
  {
   "cell_type": "code",
   "execution_count": 2,
   "metadata": {},
   "outputs": [],
   "source": [
    "data_dir = 'flower_data'\n",
    "train_dir = data_dir + '/train'\n",
    "valid_dir = data_dir + '/valid'\n",
    "test_dir = data_dir + '/test'"
   ]
  },
  {
   "cell_type": "code",
   "execution_count": 3,
   "metadata": {},
   "outputs": [
    {
     "name": "stdout",
     "output_type": "stream",
     "text": [
      "{'1': 0, '10': 1, '100': 2, '101': 3, '102': 4, '11': 5, '12': 6, '13': 7, '14': 8, '15': 9, '16': 10, '17': 11, '18': 12, '19': 13, '2': 14, '20': 15, '21': 16, '22': 17, '23': 18, '24': 19, '25': 20, '26': 21, '27': 22, '28': 23, '29': 24, '3': 25, '30': 26, '31': 27, '32': 28, '33': 29, '34': 30, '35': 31, '36': 32, '37': 33, '38': 34, '39': 35, '4': 36, '40': 37, '41': 38, '42': 39, '43': 40, '44': 41, '45': 42, '46': 43, '47': 44, '48': 45, '49': 46, '5': 47, '50': 48, '51': 49, '52': 50, '53': 51, '54': 52, '55': 53, '56': 54, '57': 55, '58': 56, '59': 57, '6': 58, '60': 59, '61': 60, '62': 61, '63': 62, '64': 63, '65': 64, '66': 65, '67': 66, '68': 67, '69': 68, '7': 69, '70': 70, '71': 71, '72': 72, '73': 73, '74': 74, '75': 75, '76': 76, '77': 77, '78': 78, '79': 79, '8': 80, '80': 81, '81': 82, '82': 83, '83': 84, '84': 85, '85': 86, '86': 87, '87': 88, '88': 89, '89': 90, '9': 91, '90': 92, '91': 93, '92': 94, '93': 95, '94': 96, '95': 97, '96': 98, '97': 99, '98': 100, '99': 101}\n"
     ]
    }
   ],
   "source": [
    "means = [0.485, 0.456, 0.406]\n",
    "stds = [0.229, 0.224, 0.225]\n",
    "\n",
    "# TODO: Define your transforms for the training, validation, and testing sets\n",
    "data_transforms = transforms.Compose([transforms.Resize(256),\n",
    "                                     transforms.CenterCrop(224),\n",
    "                                     transforms.RandomHorizontalFlip(),\n",
    "                                     transforms.ToTensor(),\n",
    "                                     transforms.Normalize(mean=means, std=stds)])\n",
    "\n",
    "# TODO: Load the datasets with ImageFolder\n",
    "image_datasets = datasets.ImageFolder(train_dir, transform=data_transforms)\n",
    "class_to_tensoridx_dict = image_datasets.class_to_idx\n",
    "\n",
    "print(class_to_tensoridx_dict)\n",
    "\n",
    "# TODO: Using the image datasets and the trainforms, define the dataloaders\n",
    "dataloaders = torch.utils.data.DataLoader(image_datasets, batch_size=40, shuffle=True)"
   ]
  },
  {
   "cell_type": "code",
   "execution_count": 4,
   "metadata": {},
   "outputs": [
    {
     "data": {
      "text/plain": [
       "tensor(93)"
      ]
     },
     "execution_count": 4,
     "metadata": {},
     "output_type": "execute_result"
    }
   ],
   "source": [
    "image, label = next(iter(dataloaders))\n",
    "image[0]\n",
    "label[0]"
   ]
  },
  {
   "cell_type": "markdown",
   "metadata": {},
   "source": [
    "### Label mapping\n",
    "\n",
    "You'll also need to load in a mapping from category label to category name. You can find this in the file `cat_to_name.json`. It's a JSON object which you can read in with the [`json` module](https://docs.python.org/2/library/json.html). This will give you a dictionary mapping the integer encoded categories to the actual names of the flowers."
   ]
  },
  {
   "cell_type": "code",
   "execution_count": 5,
   "metadata": {},
   "outputs": [
    {
     "name": "stdout",
     "output_type": "stream",
     "text": [
      "{'21': 'fire lily', '3': 'canterbury bells', '45': 'bolero deep blue', '1': 'pink primrose', '34': 'mexican aster', '27': 'prince of wales feathers', '7': 'moon orchid', '16': 'globe-flower', '25': 'grape hyacinth', '26': 'corn poppy', '79': 'toad lily', '39': 'siam tulip', '24': 'red ginger', '67': 'spring crocus', '35': 'alpine sea holly', '32': 'garden phlox', '10': 'globe thistle', '6': 'tiger lily', '93': 'ball moss', '33': 'love in the mist', '9': 'monkshood', '102': 'blackberry lily', '14': 'spear thistle', '19': 'balloon flower', '100': 'blanket flower', '13': 'king protea', '49': 'oxeye daisy', '15': 'yellow iris', '61': 'cautleya spicata', '31': 'carnation', '64': 'silverbush', '68': 'bearded iris', '63': 'black-eyed susan', '69': 'windflower', '62': 'japanese anemone', '20': 'giant white arum lily', '38': 'great masterwort', '4': 'sweet pea', '86': 'tree mallow', '101': 'trumpet creeper', '42': 'daffodil', '22': 'pincushion flower', '2': 'hard-leaved pocket orchid', '54': 'sunflower', '66': 'osteospermum', '70': 'tree poppy', '85': 'desert-rose', '99': 'bromelia', '87': 'magnolia', '5': 'english marigold', '92': 'bee balm', '28': 'stemless gentian', '97': 'mallow', '57': 'gaura', '40': 'lenten rose', '47': 'marigold', '59': 'orange dahlia', '48': 'buttercup', '55': 'pelargonium', '36': 'ruby-lipped cattleya', '91': 'hippeastrum', '29': 'artichoke', '71': 'gazania', '90': 'canna lily', '18': 'peruvian lily', '98': 'mexican petunia', '8': 'bird of paradise', '30': 'sweet william', '17': 'purple coneflower', '52': 'wild pansy', '84': 'columbine', '12': \"colt's foot\", '11': 'snapdragon', '96': 'camellia', '23': 'fritillary', '50': 'common dandelion', '44': 'poinsettia', '53': 'primula', '72': 'azalea', '65': 'californian poppy', '80': 'anthurium', '76': 'morning glory', '37': 'cape flower', '56': 'bishop of llandaff', '60': 'pink-yellow dahlia', '82': 'clematis', '58': 'geranium', '75': 'thorn apple', '41': 'barbeton daisy', '95': 'bougainvillea', '43': 'sword lily', '83': 'hibiscus', '78': 'lotus lotus', '88': 'cyclamen', '94': 'foxglove', '81': 'frangipani', '74': 'rose', '89': 'watercress', '73': 'water lily', '46': 'wallflower', '77': 'passion flower', '51': 'petunia'}\n"
     ]
    }
   ],
   "source": [
    "import json\n",
    "\n",
    "with open('cat_to_name.json', 'r') as f:\n",
    "    cat_to_name = json.load(f)\n",
    "    \n",
    "print(cat_to_name)"
   ]
  },
  {
   "cell_type": "markdown",
   "metadata": {},
   "source": [
    "# Building and training the classifier\n",
    "\n",
    "Now that the data is ready, it's time to build and train the classifier. As usual, you should use one of the pretrained models from `torchvision.models` to get the image features. Build and train a new feed-forward classifier using those features.\n",
    "\n",
    "We're going to leave this part up to you. If you want to talk through it with someone, chat with your fellow students! You can also ask questions on the forums or join the instructors in office hours.\n",
    "\n",
    "Refer to [the rubric](https://review.udacity.com/#!/rubrics/1663/view) for guidance on successfully completing this section. Things you'll need to do:\n",
    "\n",
    "* Load a [pre-trained network](http://pytorch.org/docs/master/torchvision/models.html) (If you need a starting point, the VGG networks work great and are straightforward to use)\n",
    "* Define a new, untrained feed-forward network as a classifier, using ReLU activations and dropout\n",
    "* Train the classifier layers using backpropagation using the pre-trained network to get the features\n",
    "* Track the loss and accuracy on the validation set to determine the best hyperparameters\n",
    "\n",
    "We've left a cell open for you below, but use as many as you need. Our advice is to break the problem up into smaller parts you can run separately. Check that each part is doing what you expect, then move on to the next. You'll likely find that as you work through each part, you'll need to go back and modify your previous code. This is totally normal!\n",
    "\n",
    "When training make sure you're updating only the weights of the feed-forward network. You should be able to get the validation accuracy above 70% if you build everything right. Make sure to try different hyperparameters (learning rate, units in the classifier, epochs, etc) to find the best model. Save those hyperparameters to use as default values in the next part of the project."
   ]
  },
  {
   "cell_type": "markdown",
   "metadata": {},
   "source": [
    "### Model Settings"
   ]
  },
  {
   "cell_type": "code",
   "execution_count": 6,
   "metadata": {},
   "outputs": [],
   "source": [
    "device = 'cuda'\n",
    "epochs = 10\n",
    "print_every = 40"
   ]
  },
  {
   "cell_type": "code",
   "execution_count": 7,
   "metadata": {},
   "outputs": [
    {
     "name": "stderr",
     "output_type": "stream",
     "text": [
      "D:\\ProgramData\\Anaconda3\\lib\\site-packages\\torchvision\\models\\densenet.py:212: UserWarning: nn.init.kaiming_normal is now deprecated in favor of nn.init.kaiming_normal_.\n",
      "  nn.init.kaiming_normal(m.weight.data)\n"
     ]
    },
    {
     "name": "stdout",
     "output_type": "stream",
     "text": [
      "Epoch: 1/10...  Loss: 0.1201\n",
      "Epoch: 1/10...  Loss: 4.6533\n",
      "Epoch: 1/10...  Loss: 4.3500\n",
      "Epoch: 1/10...  Loss: 3.8528\n",
      "Epoch: 1/10...  Loss: 3.2376\n",
      "Epoch: 2/10...  Loss: 0.0723\n",
      "Epoch: 2/10...  Loss: 2.7229\n",
      "Epoch: 2/10...  Loss: 2.3499\n",
      "Epoch: 2/10...  Loss: 2.1262\n",
      "Epoch: 2/10...  Loss: 1.9087\n",
      "Epoch: 3/10...  Loss: 0.0580\n",
      "Epoch: 3/10...  Loss: 1.7074\n",
      "Epoch: 3/10...  Loss: 1.6263\n",
      "Epoch: 3/10...  Loss: 1.4911\n",
      "Epoch: 3/10...  Loss: 1.4195\n",
      "Epoch: 4/10...  Loss: 0.0284\n",
      "Epoch: 4/10...  Loss: 1.3223\n",
      "Epoch: 4/10...  Loss: 1.2946\n",
      "Epoch: 4/10...  Loss: 1.1817\n",
      "Epoch: 4/10...  Loss: 1.1549\n",
      "Epoch: 5/10...  Loss: 0.0183\n",
      "Epoch: 5/10...  Loss: 1.1321\n",
      "Epoch: 5/10...  Loss: 1.0638\n",
      "Epoch: 5/10...  Loss: 1.0506\n",
      "Epoch: 5/10...  Loss: 0.9723\n",
      "Epoch: 6/10...  Loss: 0.0301\n",
      "Epoch: 6/10...  Loss: 0.9504\n",
      "Epoch: 6/10...  Loss: 0.8922\n",
      "Epoch: 6/10...  Loss: 0.9131\n",
      "Epoch: 6/10...  Loss: 0.8867\n",
      "Epoch: 7/10...  Loss: 0.0233\n",
      "Epoch: 7/10...  Loss: 0.8966\n",
      "Epoch: 7/10...  Loss: 0.7792\n",
      "Epoch: 7/10...  Loss: 0.8162\n",
      "Epoch: 7/10...  Loss: 0.8994\n",
      "Epoch: 8/10...  Loss: 0.0187\n",
      "Epoch: 8/10...  Loss: 0.8169\n",
      "Epoch: 8/10...  Loss: 0.7699\n",
      "Epoch: 8/10...  Loss: 0.7743\n",
      "Epoch: 8/10...  Loss: 0.7118\n",
      "Epoch: 9/10...  Loss: 0.0130\n",
      "Epoch: 9/10...  Loss: 0.7044\n",
      "Epoch: 9/10...  Loss: 0.6442\n",
      "Epoch: 9/10...  Loss: 0.7388\n",
      "Epoch: 9/10...  Loss: 0.7392\n",
      "Epoch: 10/10...  Loss: 0.0149\n",
      "Epoch: 10/10...  Loss: 0.6578\n",
      "Epoch: 10/10...  Loss: 0.6622\n",
      "Epoch: 10/10...  Loss: 0.6125\n",
      "Epoch: 10/10...  Loss: 0.6443\n",
      "Finished Training in  991.4279761314392 seconds\n"
     ]
    }
   ],
   "source": [
    "# TODO: Build and train your network\n",
    "model = models.densenet121(pretrained=True)\n",
    "\n",
    "# Freeze parameters so we don't backprop through them\n",
    "for param in model.parameters():\n",
    "    param.requires_grad = False\n",
    "    \n",
    "classifier = nn.Sequential(OrderedDict([\n",
    "    ('fc1', nn.Linear(1024, 500)),   \n",
    "    ('relu', nn.ReLU()),\n",
    "    ('dropout', nn.Dropout(p=0.5)),\n",
    "    ('fc2', nn.Linear(500,300)),\n",
    "    ('relu2', nn.ReLU()),\n",
    "    ('dropout2', nn.Dropout(p=0.5)),\n",
    "    ('fc3', nn.Linear(300, 121)),\n",
    "    ('output', nn.LogSoftmax(dim=1))\n",
    "]))\n",
    "\n",
    "'''classifier = nn.Sequential(OrderedDict([\n",
    "    ('fc1', nn.Linear(1024, 500)),\n",
    "    ('relu', nn.ReLU()),\n",
    "    ('fc2', nn.Linear(500, 121)),\n",
    "    ('output', nn.LogSoftmax(dim=1))\n",
    "]))'''\n",
    "\n",
    "model.classifier = classifier\n",
    "\n",
    "criterion = nn.NLLLoss()\n",
    "optimizer = optim.Adam(model.classifier.parameters(), lr=0.001)\n",
    "\n",
    "model.to(device)\n",
    "\n",
    "import time\n",
    "\n",
    "start = time.time()\n",
    "\n",
    "for e in range(epochs):\n",
    "    running_loss = 0\n",
    "    for steps, (images, labels) in enumerate(dataloaders):\n",
    "\n",
    "        # move images and labels to device selected\n",
    "        images, labels = images.to(device), labels.to(device)\n",
    "        optimizer.zero_grad()\n",
    "        outputs = model.forward(images)\n",
    "        loss = criterion(outputs, labels)\n",
    "        loss.backward()\n",
    "        optimizer.step()\n",
    "        \n",
    "        running_loss += loss.item()\n",
    "        \n",
    "        if steps % print_every == 0:\n",
    "            print(\"Epoch: {}/{}... \".format(e+1, epochs),\n",
    "                 \"Loss: {:.4f}\".format(running_loss/print_every))\n",
    "            running_loss = 0\n",
    "print('Finished Training in ', time.time() - start, 'seconds')     "
   ]
  },
  {
   "cell_type": "markdown",
   "metadata": {},
   "source": [
    "## Testing your network\n",
    "\n",
    "It's good practice to test your trained network on test data, images the network has never seen either in training or validation. This will give you a good estimate for the model's performance on completely new images. Run the test images through the network and measure the accuracy, the same way you did validation. You should be able to reach around 70% accuracy on the test set if the model has been trained well."
   ]
  },
  {
   "cell_type": "code",
   "execution_count": null,
   "metadata": {},
   "outputs": [],
   "source": [
    "means = [0.485, 0.456, 0.406]\n",
    "stds = [0.229, 0.224, 0.225]\n",
    "\n",
    "# TODO: Define your transforms for the training, validation, and testing sets\n",
    "test_data_transforms = transforms.Compose([transforms.Resize(256),\n",
    "                                     transforms.CenterCrop(224),\n",
    "                                     transforms.ToTensor(),\n",
    "                                     transforms.Normalize(mean=means, std=stds)])\n",
    "\n",
    "# TODO: Load the datasets with ImageFolder\n",
    "test_image_datasets = datasets.ImageFolder(test_dir, transform=test_data_transforms)\n",
    "\n",
    "\n",
    "# TODO: Using the image datasets and the trainforms, define the dataloaders\n",
    "test_dataloaders = torch.utils.data.DataLoader(test_image_datasets, batch_size=16, shuffle=True)"
   ]
  },
  {
   "cell_type": "code",
   "execution_count": null,
   "metadata": {},
   "outputs": [],
   "source": [
    "# TODO: Do validation on the test set\n",
    "correct = 0\n",
    "total = 0\n",
    "model.to(device)\n",
    "with torch.no_grad():\n",
    "    for (images, labels) in test_dataloaders:\n",
    "        # move images and labels to device selected\n",
    "        images, labels = images.to(device), labels.to(device)\n",
    "        outputs = model(images)\n",
    "        _, predicted = torch.max(outputs.data, 1)\n",
    "        total += labels.size(0)\n",
    "        correct += (predicted == labels).sum().item()\n",
    "        \n",
    "print('Accuracy of the network on test images: %d %%' %\n",
    "     (100 * correct / total))    "
   ]
  },
  {
   "cell_type": "markdown",
   "metadata": {},
   "source": [
    "## Save the checkpoint\n",
    "\n",
    "Now that your network is trained, save the model so you can load it later for making predictions. You probably want to save other things such as the mapping of classes to indices which you get from one of the image datasets: `image_datasets['train'].class_to_idx`. You can attach this to the model as an attribute which makes inference easier later on.\n",
    "\n",
    "```model.class_to_idx = image_datasets['train'].class_to_idx```\n",
    "\n",
    "Remember that you'll want to completely rebuild the model later so you can use it for inference. Make sure to include any information you need in the checkpoint. If you want to load the model and keep training, you'll want to save the number of epochs as well as the optimizer state, `optimizer.state_dict`. You'll likely want to use this trained model in the next part of the project, so best to save it now."
   ]
  },
  {
   "cell_type": "code",
   "execution_count": null,
   "metadata": {},
   "outputs": [],
   "source": [
    "# TODO: Save the checkpoint \n",
    "model.class_to_idx = class_to_tensoridx_dict\n",
    "with open('class_to_tensoridx_dict.pickle', 'wb') as handle:\n",
    "    pickle.dump(class_to_tensoridx_dict, handle)\n",
    "\n",
    "torch.save(model.state_dict(), 'checkpoint.pth')"
   ]
  },
  {
   "cell_type": "markdown",
   "metadata": {},
   "source": [
    "## Loading the checkpoint\n",
    "\n",
    "At this point it's good to write a function that can load a checkpoint and rebuild the model. That way you can come back to this project and keep working on it without having to retrain the network."
   ]
  },
  {
   "cell_type": "code",
   "execution_count": null,
   "metadata": {},
   "outputs": [],
   "source": [
    "# TODO: Write a function that loads a checkpoint and rebuilds the model\n",
    "state_dict = torch.load('checkpoint.pth')"
   ]
  },
  {
   "cell_type": "markdown",
   "metadata": {},
   "source": [
    "# Inference for classification\n",
    "\n",
    "Now you'll write a function to use a trained network for inference. That is, you'll pass an image into the network and predict the class of the flower in the image. Write a function called `predict` that takes an image and a model, then returns the top $K$ most likely classes along with the probabilities. It should look like \n",
    "\n",
    "```python\n",
    "probs, classes = predict(image_path, model)\n",
    "print(probs)\n",
    "print(classes)\n",
    "> [ 0.01558163  0.01541934  0.01452626  0.01443549  0.01407339]\n",
    "> ['70', '3', '45', '62', '55']\n",
    "```\n",
    "\n",
    "First you'll need to handle processing the input image such that it can be used in your network. \n",
    "\n",
    "## Image Preprocessing\n",
    "\n",
    "You'll want to use `PIL` to load the image ([documentation](https://pillow.readthedocs.io/en/latest/reference/Image.html)). It's best to write a function that preprocesses the image so it can be used as input for the model. This function should process the images in the same manner used for training. \n",
    "\n",
    "First, resize the images where the shortest side is 256 pixels, keeping the aspect ratio. This can be done with the [`thumbnail`](http://pillow.readthedocs.io/en/3.1.x/reference/Image.html#PIL.Image.Image.thumbnail) or [`resize`](http://pillow.readthedocs.io/en/3.1.x/reference/Image.html#PIL.Image.Image.thumbnail) methods. Then you'll need to crop out the center 224x224 portion of the image.\n",
    "\n",
    "Color channels of images are typically encoded as integers 0-255, but the model expected floats 0-1. You'll need to convert the values. It's easiest with a Numpy array, which you can get from a PIL image like so `np_image = np.array(pil_image)`.\n",
    "\n",
    "As before, the network expects the images to be normalized in a specific way. For the means, it's `[0.485, 0.456, 0.406]` and for the standard deviations `[0.229, 0.224, 0.225]`. You'll want to subtract the means from each color channel, then divide by the standard deviation. \n",
    "\n",
    "And finally, PyTorch expects the color channel to be the first dimension but it's the third dimension in the PIL image and Numpy array. You can reorder dimensions using [`ndarray.transpose`](https://docs.scipy.org/doc/numpy-1.13.0/reference/generated/numpy.ndarray.transpose.html). The color channel needs to be first and retain the order of the other two dimensions."
   ]
  },
  {
   "cell_type": "code",
   "execution_count": null,
   "metadata": {},
   "outputs": [],
   "source": [
    "def process_image(image_path):\n",
    "    \"\"\"\n",
    "    Scales, crops, and normalizes a PIL image for a PyTorch model\n",
    "    \n",
    "    Parameters\n",
    "    ----------\n",
    "    image_path: the path of the image with the image file name\n",
    "    \n",
    "    returns transformed image and category id\n",
    "    \"\"\"\n",
    "    \n",
    "    cat_id = (str(image_path.split('\\\\')[-2]))\n",
    "    \n",
    "    # TODO: Process a PIL image for use in a PyTorch model\n",
    "    from PIL import Image\n",
    "    \n",
    "    im = Image.open(image_path)\n",
    "    \n",
    "    # TODO: Process a PIL image for use in a PyTorch model\n",
    "    data_transforms = transforms.Compose([transforms.Resize(256),\n",
    "                                      transforms.CenterCrop(224),\n",
    "                                      transforms.ToTensor(),\n",
    "                                      transforms.Normalize(mean=[0.485, 0.456,0.406], std=[0.229, 0.224, 0.225])])\n",
    " \n",
    "    return data_transforms(im), cat_id"
   ]
  },
  {
   "cell_type": "markdown",
   "metadata": {},
   "source": [
    "To check your work, the function below converts a PyTorch tensor and displays it in the notebook. If your `process_image` function works, running the output through this function should return the original image (except for the cropped out portions)."
   ]
  },
  {
   "cell_type": "code",
   "execution_count": null,
   "metadata": {},
   "outputs": [],
   "source": [
    "def imshow(image, image2=None, image3=None, title=None):\n",
    "    \"\"\"\n",
    "    Parameters\n",
    "    ----------\n",
    "    image: the transformed image\n",
    "    image2: a second trasformed image\n",
    "        it shows two pictures side by side if provided -default None\n",
    "    title: the title of the graph - default None\n",
    "    \n",
    "    shows picture of image in a graph\n",
    "    returns None\n",
    "    \"\"\"\n",
    "    second_provided = type(image2)==torch.Tensor\n",
    "    third_provided = type(image3)==torch.Tensor\n",
    "    \n",
    "    if second_provided and third_provided==False:\n",
    "        fig, ax = plt.subplots(1, 2)\n",
    "        image = image.numpy().transpose((1, 2, 0))\n",
    "        image2 = image2.numpy().transpose((1, 2, 0))\n",
    "    elif second_provided and third_provided:\n",
    "        fig, ax = plt.subplots(1, 3)\n",
    "        image = image.numpy().transpose((1, 2, 0))\n",
    "        image2 = image2.numpy().transpose((1, 2, 0))\n",
    "        image3 = image3.numpy().transpose((1, 2, 0))\n",
    "    else:\n",
    "        fig, ax = plt.subplots()\n",
    "        image = image.numpy().transpose((1, 2, 0))\n",
    "        \n",
    "    \n",
    "    # PyTorch tensors assume the color channel is the first dimension\n",
    "    # but matplotlib assumes is the third dimension    \n",
    "    \n",
    "    # Undo preprocessing\n",
    "    mean = np.array([0.485, 0.456, 0.406])\n",
    "    std = np.array([0.229, 0.224, 0.225])\n",
    "    \n",
    "    if second_provided and third_provided==False:\n",
    "        image = std * image + mean\n",
    "        image2 = std * image2 + mean\n",
    "    elif second_provided and third_provided:\n",
    "        image = std * image + mean\n",
    "        image2 = std * image2 + mean\n",
    "        image3 = std * image3 + mean\n",
    "    else:\n",
    "        image = std * image + mean\n",
    "    \n",
    "    # Image needs to be clipped between 0 and 1 or it looks like noise when displayed\n",
    "    if second_provided and third_provided==False:\n",
    "        image = np.clip(image, 0, 1)\n",
    "        image2 = np.clip(image2, 0, 1)\n",
    "    elif second_provided and third_provided:\n",
    "        image = np.clip(image, 0, 1)\n",
    "        image2 = np.clip(image2, 0, 1)\n",
    "        image3 = np.clip(image3, 0, 1)        \n",
    "    else:\n",
    "        image = np.clip(image, 0, 1)\n",
    "    \n",
    "    \n",
    "    \n",
    "    if second_provided and third_provided==False:\n",
    "        ax[0].xaxis.set_major_locator(plt.NullLocator())\n",
    "        ax[0].yaxis.set_major_locator(plt.NullLocator())\n",
    "        ax[1].xaxis.set_major_locator(plt.NullLocator())\n",
    "        ax[1].yaxis.set_major_locator(plt.NullLocator())\n",
    "        ax[0].imshow(image)\n",
    "        ax[1].imshow(image2)\n",
    "    elif second_provided and third_provided:\n",
    "        ax[0].xaxis.set_major_locator(plt.NullLocator())\n",
    "        ax[0].yaxis.set_major_locator(plt.NullLocator())\n",
    "        ax[1].xaxis.set_major_locator(plt.NullLocator())\n",
    "        ax[1].yaxis.set_major_locator(plt.NullLocator())\n",
    "        ax[2].xaxis.set_major_locator(plt.NullLocator())\n",
    "        ax[2].yaxis.set_major_locator(plt.NullLocator())\n",
    "        ax[0].imshow(image)\n",
    "        ax[1].imshow(image2)\n",
    "        ax[2].imshow(image3)\n",
    "    else:\n",
    "        ax.xaxis.set_major_locator(plt.NullLocator())\n",
    "        ax.yaxis.set_major_locator(plt.NullLocator())\n",
    "        ax.imshow(image)"
   ]
  },
  {
   "cell_type": "code",
   "execution_count": null,
   "metadata": {},
   "outputs": [],
   "source": [
    "def select_image(cat_id):\n",
    "    \"\"\"\n",
    "    Parameters\n",
    "    ----------\n",
    "    cat_id: the flower id given by the respective folder number given in the flower_data folder\n",
    "    \n",
    "    return selected image path with image file name\n",
    "    \n",
    "    Note: use this to load the image path in the predict function\n",
    "    \"\"\"\n",
    "    image_path = os.getcwd() + '\\\\flower_data\\\\valid\\\\{}\\\\'.format(cat_id)\n",
    "    image_name = os.listdir('flower_data\\\\valid\\\\{}'.format(cat_id))[0]\n",
    "    selected_image = image_path + image_name\n",
    "    return selected_image"
   ]
  },
  {
   "cell_type": "code",
   "execution_count": null,
   "metadata": {},
   "outputs": [],
   "source": [
    "predict(select_image(73), model_load, 5)"
   ]
  },
  {
   "cell_type": "markdown",
   "metadata": {},
   "source": [
    "### Testing imshow()"
   ]
  },
  {
   "cell_type": "code",
   "execution_count": null,
   "metadata": {},
   "outputs": [],
   "source": [
    "image = process_image(select_image(53))[0]\n",
    "image1 = process_image(select_image(63))[0]\n",
    "image2 = process_image(select_image(22))[0]\n",
    "image3 = process_image(select_image(33))[0]\n",
    "imshow(image)\n",
    "imshow(image1, image2)\n",
    "imshow(image1, image2, image3)"
   ]
  },
  {
   "cell_type": "markdown",
   "metadata": {},
   "source": [
    "## Class Prediction\n",
    "\n",
    "Once you can get images in the correct format, it's time to write a function for making predictions with your model. A common practice is to predict the top 5 or so (usually called top-$K$) most probable classes. You'll want to calculate the class probabilities then find the $K$ largest values.\n",
    "\n",
    "To get the top $K$ largest values in a tensor use [`x.topk(k)`](http://pytorch.org/docs/master/torch.html#torch.topk). This method returns both the highest `k` probabilities and the indices of those probabilities corresponding to the classes. You need to convert from these indices to the actual class labels using `class_to_idx` which hopefully you added to the model or from an `ImageFolder` you used to load the data ([see here](#Save-the-checkpoint)). Make sure to invert the dictionary so you get a mapping from index to class as well.\n",
    "\n",
    "Again, this method should take a path to an image and a model checkpoint, then return the probabilities and classes.\n",
    "\n",
    "```python\n",
    "probs, classes = predict(image_path, model)\n",
    "print(probs)\n",
    "print(classes)\n",
    "> [ 0.01558163  0.01541934  0.01452626  0.01443549  0.01407339]\n",
    "> ['70', '3', '45', '62', '55']\n",
    "```"
   ]
  },
  {
   "cell_type": "code",
   "execution_count": null,
   "metadata": {},
   "outputs": [],
   "source": [
    "def title_enhancer(text, size=46, color='black'):\n",
    "    \"\"\"\n",
    "    Parameter\n",
    "    --------\n",
    "    text: text to be enhanced\n",
    "    size: size of the text -default 46\n",
    "    color: warning for incorrect prediction ('red' for bad or 'black' for good)\n",
    "    \n",
    "    displayed enhanced HTML text in bold and given size\n",
    "    \"\"\"\n",
    "    display(HTML('<p style=\"color:{};font-size:{}px\"><b>{:s}</b></p>'.format(color, int(size), text)))"
   ]
  },
  {
   "cell_type": "code",
   "execution_count": null,
   "metadata": {},
   "outputs": [],
   "source": [
    "# TODO: Display an image along with the top 5 classes\n",
    "def plt_bar_chart(probs, classes): \n",
    "    \"\"\"\n",
    "    Parameters\n",
    "    ----------\n",
    "    probs: the output probabilities from the model\n",
    "    classes: the top classes respective to the probabilities\n",
    "    \n",
    "    shows the top probabilities in a horizontal graph\n",
    "    returns None\n",
    "    \"\"\"\n",
    "    \n",
    "    fig, ax = plt.subplots()\n",
    "    \n",
    "    y_pos = np.arange(len(classes))\n",
    "    probabilities = probs\n",
    "    \n",
    "    ax.barh(y_pos, probabilities, align='center', color='blue', ecolor='black')\n",
    "    ax.set_yticks(y_pos)\n",
    "    ax.set_yticklabels(classes)\n",
    "    ax.invert_yaxis()\n",
    "    ax.set_xlabel('Prediction')\n",
    "    ax.set_title('Flower Prediction Validation')\n",
    "    \n",
    "    plt.show()  "
   ]
  },
  {
   "cell_type": "code",
   "execution_count": null,
   "metadata": {},
   "outputs": [],
   "source": [
    "def predict(image_path, model, topk=5, show=True):\n",
    "    \"\"\"\n",
    "    Parameters\n",
    "    ----------\n",
    "    image_path: the selected picture path with image file name\n",
    "        use select_image function\n",
    "    model: the trained model or loaded trained model\n",
    "    topk: the top k prediction by the greatest probability -default 5\n",
    "    show: to decide if just the probs and to_classes should be returned without \n",
    "        printing or showing images -default True\n",
    "    \n",
    "    shows picture of flower\n",
    "    prints actual flower name\n",
    "    returns list of probabilities and top classes by index and name\n",
    "    \n",
    "    Note: the index returned in top_classes can be used in the select_image function\n",
    "        to return path with picture file name of the respective flower\n",
    "    \"\"\"\n",
    "    image, cat_id = process_image(image_path)\n",
    "    \n",
    "    \n",
    "    # prep the images to show\n",
    "    actual_flower = image[:]\n",
    "    image_path = ('\\\\'.join(image_path.split('\\\\')[:-2]))\n",
    "    \n",
    "    \n",
    "    #  continue processing and returning outputs\n",
    "    image = image.unsqueeze_(0)    \n",
    "    model.to('cpu')      \n",
    "    model.eval()\n",
    "    with torch.no_grad():\n",
    "        outputs = torch.exp(model.forward(image))\n",
    "        \n",
    "    probs, classes = outputs.topk(topk)    \n",
    "   \n",
    "    probs = probs.to('cpu').numpy().reshape(-1)\n",
    "    tensoridx = classes.to('cpu').numpy().reshape(-1,)\n",
    "    \n",
    "    # brings a dictionary of tensor index to cat id\n",
    "    tensoridx_to_catid = {val: key for key, val in model.class_to_idx.items()}\n",
    "    \n",
    "    # brings category name from category id mapping to tensor index\n",
    "    top_classes = [tensoridx_to_catid[idx] + ' - ' + cat_to_name[tensoridx_to_catid[idx]] for idx in tensoridx]\n",
    "    \n",
    "    # showing pictures\n",
    "    flower_ids = [tensoridx_to_catid[idx] for idx in tensoridx]\n",
    "    first_image_path = image_path + '\\\\' + flower_ids[0]\n",
    "    second_image_path = image_path + '\\\\' + flower_ids[1]\n",
    "    first_flower_filename = os.listdir(first_image_path)[0]\n",
    "    second_flower_filename = os.listdir(second_image_path)[0]\n",
    "    first_image_path = first_image_path + '\\\\' + first_flower_filename\n",
    "    second_image_path = second_image_path + '\\\\' + second_flower_filename\n",
    "    \n",
    "    first_image = process_image(first_image_path)[0]\n",
    "    second_image = process_image(second_image_path)[0]\n",
    "    \n",
    "    accurate = ' - Correct'\n",
    "    color = 'black'\n",
    "    if str(cat_id) != flower_ids[0]: \n",
    "        accurate = ' - Incorrect'\n",
    "        color = 'red'\n",
    "    \n",
    "    if show: \n",
    "        title_enhancer('Actual: ' + cat_to_name[cat_id] + accurate, size=20, color=color)\n",
    "        title_enhancer('1st: Actual | 2nd: First Prediction | 3rd: Second Prediction', 14)\n",
    "    if show: imshow(actual_flower, first_image, second_image)  \n",
    "    \n",
    "    if show: plt_bar_chart(probs, top_classes) \n",
    "    \n",
    "    return list(probs), top_classes"
   ]
  },
  {
   "cell_type": "code",
   "execution_count": null,
   "metadata": {},
   "outputs": [],
   "source": [
    "def pretty_flower_frame(cat_to_name):\n",
    "    \"\"\"\n",
    "    A clean way to see the flower mappings to be able to validate the model easier\n",
    "    \n",
    "    Parameters\n",
    "    ----------\n",
    "    cat_to_name: a dictionary mapping the integer encoded categories to the actual names of the flowers\n",
    "    \n",
    "    display dataframe\n",
    "    returns None\n",
    "    \"\"\"\n",
    "    \n",
    "    # creating dict\n",
    "    flower_dict = {'index': [], 'flower_name': []}\n",
    "    for key, value in cat_to_name.items():\n",
    "        flower_dict['index'].append(key)\n",
    "        flower_dict['flower_name'].append(value)\n",
    "\n",
    "    # creating pandas dataframe\n",
    "    pd.set_option('display.max_rows', 500)\n",
    "    df = pd.DataFrame(flower_dict)\n",
    "    df.set_index('index', inplace=True)\n",
    "    df = (df.sort_values('flower_name'))   \n",
    "    df.reset_index('index', inplace=True)\n",
    "\n",
    "    # combining all frames\n",
    "    df1 = df.iloc[:26, :].add_suffix('_1')\n",
    "    df2 = df.iloc[26:52].reset_index(drop=True).add_suffix('_2')\n",
    "    df3 = df.iloc[52:78, :].reset_index(drop=True).add_suffix('_3')\n",
    "    df4 = df.iloc[78:102, :].reset_index(drop=True).add_suffix('_4')\n",
    "\n",
    "    display(pd.concat([df1, df2, df3, df4], axis=1).fillna(''))"
   ]
  },
  {
   "cell_type": "markdown",
   "metadata": {},
   "source": [
    "## Sanity Checking\n",
    "\n",
    "Now that you can use a trained model for predictions, check to make sure it makes sense. Even if the testing accuracy is high, it's always good to check that there aren't obvious bugs. Use `matplotlib` to plot the probabilities for the top 5 classes as a bar graph, along with the input image. It should look like this:\n",
    "\n",
    "<img src='assets/inference_example.png' width=300px>\n",
    "\n",
    "You can convert from the class integer encoding to actual flower names with the `cat_to_name.json` file (should have been loaded earlier in the notebook). To show a PyTorch tensor as an image, use the `imshow` function defined above."
   ]
  },
  {
   "cell_type": "code",
   "execution_count": null,
   "metadata": {},
   "outputs": [],
   "source": [
    "predict(select_image(73), model, 5)"
   ]
  },
  {
   "cell_type": "markdown",
   "metadata": {},
   "source": [
    "### Loading the Trained Model"
   ]
  },
  {
   "cell_type": "code",
   "execution_count": null,
   "metadata": {},
   "outputs": [],
   "source": [
    "with open('class_to_tensoridx_dict.pickle', 'rb') as handle:\n",
    "    class_to_tensoridx_dict = pickle.load(handle)    \n",
    "\n",
    "model_load = models.densenet121(pretrained=True)\n",
    "\n",
    "classifier = nn.Sequential(OrderedDict([\n",
    "    ('fc1', nn.Linear(1024, 500)),   \n",
    "    ('relu', nn.ReLU()),\n",
    "    ('dropout', nn.Dropout(p=0.5)),\n",
    "    ('fc2', nn.Linear(500,300)),\n",
    "    ('relu2', nn.ReLU()),\n",
    "    ('dropout2', nn.Dropout(p=0.5)),\n",
    "    ('fc3', nn.Linear(300, 121)),\n",
    "    ('output', nn.LogSoftmax(dim=1))\n",
    "]))\n",
    "\n",
    "model_load.classifier = classifier\n",
    "\n",
    "model_load.load_state_dict(state_dict)\n",
    "model_load.class_to_idx = class_to_tensoridx_dict"
   ]
  },
  {
   "cell_type": "code",
   "execution_count": null,
   "metadata": {},
   "outputs": [],
   "source": [
    "pretty_flower_frame(cat_to_name)"
   ]
  },
  {
   "cell_type": "code",
   "execution_count": null,
   "metadata": {},
   "outputs": [],
   "source": [
    "predict(select_image(73), model_load, 5)"
   ]
  },
  {
   "cell_type": "code",
   "execution_count": null,
   "metadata": {},
   "outputs": [],
   "source": [
    "# low proability loop\n",
    "valid_indexes_path = os.getcwd() + '\\\\flower_data\\\\valid'\n",
    "\n",
    "title_enhancer('Low Probability Flowers:')\n",
    "for index in os.listdir(valid_indexes_path):\n",
    "    sel_image_path = valid_indexes_path + '\\\\' +index\n",
    "    image_name = str(os.listdir(valid_indexes_path + '\\\\' +index)[0])\n",
    "    \n",
    "    selected_image = sel_image_path + '\\\\' + image_name\n",
    "    if not (image_name == '.ipynb_checkpoints'):\n",
    "        prob, top_classes = predict(selected_image, model_load, 5, show=False)\n",
    "\n",
    "        if prob[0] < .70:\n",
    "            predict(selected_image, model_load, 5, show=True)\n",
    "            print(prob)\n",
    "            print()"
   ]
  },
  {
   "cell_type": "markdown",
   "metadata": {},
   "source": [
    "# :) I love marshmellows"
   ]
  }
 ],
 "metadata": {
  "kernelspec": {
   "display_name": "Python 3",
   "language": "python",
   "name": "python3"
  },
  "language_info": {
   "codemirror_mode": {
    "name": "ipython",
    "version": 3
   },
   "file_extension": ".py",
   "mimetype": "text/x-python",
   "name": "python",
   "nbconvert_exporter": "python",
   "pygments_lexer": "ipython3",
   "version": "3.7.0"
  }
 },
 "nbformat": 4,
 "nbformat_minor": 2
}
